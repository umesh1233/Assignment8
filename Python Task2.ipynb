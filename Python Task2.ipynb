{
 "cells": [
  {
   "cell_type": "code",
   "execution_count": 1,
   "id": "0272df75-4c5a-46f1-ac51-efaaa53cd169",
   "metadata": {},
   "outputs": [
    {
     "name": "stdout",
     "output_type": "stream",
     "text": [
      "Valid Password\n"
     ]
    }
   ],
   "source": [
    "l, u, p, d = 0, 0, 0, 0\n",
    "s = \"R@m@_f0rtu9e$\"\n",
    "if (len(s) >= 8):\n",
    "    for i in s:\n",
    " \n",
    "        if (i.islower()):\n",
    "            l+=1           \n",
    " \n",
    "        if (i.isupper()):\n",
    "            u+=1           \n",
    " \n",
    "        if (i.isdigit()):\n",
    "            d+=1           \n",
    " \n",
    "        if(i=='@'or i=='$' or i=='_'):\n",
    "            p+=1          \n",
    "if (l>=1 and u>=1 and p>=1 and d>=1 and l+p+u+d==len(s)):\n",
    "    print(\"Valid Password\")\n",
    "else:\n",
    "    print(\"Invalid Password\")"
   ]
  },
  {
   "cell_type": "code",
   "execution_count": 13,
   "id": "6f65211f-27a8-4a95-8194-81658b0e8135",
   "metadata": {},
   "outputs": [],
   "source": [
    "#Q.2\n",
    "#1\n",
    "starts_with = lambda x: True if x.startswith('I') else False\n",
    "print(starts_with(India))"
   ]
  },
  {
   "cell_type": "code",
   "execution_count": 18,
   "id": "1c76eec9-51f4-4744-8acd-2fe0e0b564ab",
   "metadata": {},
   "outputs": [
    {
     "name": "stdout",
     "output_type": "stream",
     "text": [
      "True\n"
     ]
    }
   ],
   "source": [
    "#2\n",
    "is_num = lambda q: q.replace('.','',1).isdigit()\n",
    "print(is_num('26587'))"
   ]
  },
  {
   "cell_type": "code",
   "execution_count": 19,
   "id": "05c73f21-83a7-4c25-be8a-19d037dec36f",
   "metadata": {},
   "outputs": [],
   "source": [
    "#3\n",
    "l1 = [(\"mango\",99),(\"orange\",80), (\"grapes\", 1000)]"
   ]
  },
  {
   "cell_type": "code",
   "execution_count": 20,
   "id": "e74ad8bb-5497-46e0-a725-3c11fb4528e5",
   "metadata": {},
   "outputs": [
    {
     "data": {
      "text/plain": [
       "(('mango', 99), ('orange', 80), ('grapes', 1000))"
      ]
     },
     "execution_count": 20,
     "metadata": {},
     "output_type": "execute_result"
    }
   ],
   "source": [
    "tuple(l1)"
   ]
  },
  {
   "cell_type": "code",
   "execution_count": 21,
   "id": "043ab8a0-a454-4c19-95a6-806f50bd18a7",
   "metadata": {},
   "outputs": [],
   "source": [
    "#4\n",
    "l = [1,2,3,4,5,6,7,8,9,10]"
   ]
  },
  {
   "cell_type": "code",
   "execution_count": 22,
   "id": "70c7674b-a107-4540-af13-0ef8ea55c6ec",
   "metadata": {},
   "outputs": [
    {
     "data": {
      "text/plain": [
       "[1, 4, 9, 16, 25, 36, 49, 64, 81, 100]"
      ]
     },
     "execution_count": 22,
     "metadata": {},
     "output_type": "execute_result"
    }
   ],
   "source": [
    "list(map(lambda x: x**2,l))"
   ]
  },
  {
   "cell_type": "code",
   "execution_count": 26,
   "id": "0029fa08-24ec-48d2-b773-8969307eb2dc",
   "metadata": {},
   "outputs": [
    {
     "name": "stdin",
     "output_type": "stream",
     "text": [
      "Enter a number >>  34\n"
     ]
    },
    {
     "name": "stdout",
     "output_type": "stream",
     "text": [
      "Even Number\n"
     ]
    }
   ],
   "source": [
    "#5\n",
    "number = int(input(\"Enter a number >> \"))\n",
    "odd_even = lambda : \"Even Number\" if number % 2 == 0 else \"Odd Number\"\n",
    "\n",
    "print(odd_even())\n"
   ]
  },
  {
   "cell_type": "code",
   "execution_count": 27,
   "id": "b2d1a949-3d77-4397-a471-fd07d712bcf1",
   "metadata": {},
   "outputs": [],
   "source": [
    "#6\n",
    "l3 = [1,2,3,4,5,6,7,8,9,10]"
   ]
  },
  {
   "cell_type": "code",
   "execution_count": 28,
   "id": "dc3697cf-5d2b-4e82-b014-63daf0292e7a",
   "metadata": {},
   "outputs": [
    {
     "data": {
      "text/plain": [
       "[1, 3, 5, 7, 9]"
      ]
     },
     "execution_count": 28,
     "metadata": {},
     "output_type": "execute_result"
    }
   ],
   "source": [
    "list(filter(lambda x: x%2!=0,l3))"
   ]
  },
  {
   "cell_type": "code",
   "execution_count": 31,
   "id": "37fafa54-b4fe-4b1d-8926-3817ddb15816",
   "metadata": {},
   "outputs": [
    {
     "name": "stdout",
     "output_type": "stream",
     "text": [
      "<map object at 0x7f4b384121a0>\n"
     ]
    }
   ],
   "source": [
    "#7\n",
    "l6 = [1,2,3,4,5,6,-1,-2,-3,-4,-5,0]\n",
    "intlist = map(int, l6) \n",
    "print(intlist)"
   ]
  },
  {
   "cell_type": "code",
   "execution_count": null,
   "id": "3478423b-84d5-417f-b8d0-8aa82cfae4dc",
   "metadata": {},
   "outputs": [],
   "source": []
  }
 ],
 "metadata": {
  "kernelspec": {
   "display_name": "Python 3 (ipykernel)",
   "language": "python",
   "name": "python3"
  },
  "language_info": {
   "codemirror_mode": {
    "name": "ipython",
    "version": 3
   },
   "file_extension": ".py",
   "mimetype": "text/x-python",
   "name": "python",
   "nbconvert_exporter": "python",
   "pygments_lexer": "ipython3",
   "version": "3.10.8"
  }
 },
 "nbformat": 4,
 "nbformat_minor": 5
}
